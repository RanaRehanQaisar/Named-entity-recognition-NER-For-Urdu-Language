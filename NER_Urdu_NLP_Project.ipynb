{
  "nbformat": 4,
  "nbformat_minor": 0,
  "metadata": {
    "colab": {
      "provenance": []
    },
    "kernelspec": {
      "name": "python3",
      "display_name": "Python 3"
    },
    "language_info": {
      "name": "python"
    }
  },
  "cells": [
    {
      "cell_type": "code",
      "execution_count": 1,
      "metadata": {
        "id": "495TxsSXV04R"
      },
      "outputs": [],
      "source": [
        "import ast\n",
        "import codecs\n",
        "import json\n",
        "import matplotlib.pyplot as plt\n",
        "import numpy as np\n",
        "from keras.layers import Dense, InputLayer, Embedding, Activation, LSTM\n",
        "from keras.models import Sequential\n",
        "from keras.optimizers import Adam\n",
        "from keras.utils import pad_sequences\n",
        "from sklearn.model_selection import train_test_split"
      ]
    },
    {
      "cell_type": "code",
      "source": [
        "tagged_sentences = codecs.open(\"data.txt\", encoding=\"utf-8\").readlines()"
      ],
      "metadata": {
        "id": "0ozcxQRlYcNx"
      },
      "execution_count": 2,
      "outputs": []
    },
    {
      "cell_type": "code",
      "source": [
        "print(tagged_sentences[0])\n",
        "print(\"Tagged sentences: \", len(tagged_sentences))"
      ],
      "metadata": {
        "colab": {
          "base_uri": "https://localhost:8080/"
        },
        "id": "FeEPEAm0YnNz",
        "outputId": "d2c16923-3e80-4a23-debc-b097d7667160"
      },
      "execution_count": 3,
      "outputs": [
        {
          "output_type": "stream",
          "name": "stdout",
          "text": [
            "[('’', 'PN'), ('میرے', 'G'), ('بھائی', 'NN'), ('کا', 'P'), ('ای', 'PN'), ('میل', 'U'), ('آیاہے', 'VB'), ('۔', 'SM')]\n",
            "\n",
            "Tagged sentences:  36314\n"
          ]
        }
      ]
    },
    {
      "cell_type": "code",
      "source": [
        "sentences, sentence_tags = [], []\n",
        "for tagged_sentence in tagged_sentences:\n",
        "    sentence, tags = zip(*ast.literal_eval(tagged_sentence))\n",
        "    sentences.append(np.array(sentence))\n",
        "    sentence_tags.append(np.array(tags))"
      ],
      "metadata": {
        "id": "7_NyGqBLYq0K"
      },
      "execution_count": 4,
      "outputs": []
    },
    {
      "cell_type": "code",
      "source": [
        "(train_sentences,\n",
        " test_sentences,\n",
        " train_tags,\n",
        " test_tags) = train_test_split(sentences, sentence_tags, test_size=0.2)"
      ],
      "metadata": {
        "id": "kOTS3naQYucF"
      },
      "execution_count": 5,
      "outputs": []
    },
    {
      "cell_type": "code",
      "source": [
        "def get_words(sentences):\n",
        "    words = set([])\n",
        "    for sentence in sentences:\n",
        "        for word in sentence:\n",
        "            words.add(word)\n",
        "    return words"
      ],
      "metadata": {
        "id": "IiNpSqVcYxSz"
      },
      "execution_count": 6,
      "outputs": []
    },
    {
      "cell_type": "code",
      "source": [
        "def get_tags(sentences_tags):\n",
        "    tags = set([])\n",
        "    for tag in sentences_tags:\n",
        "        for t in tag:\n",
        "            tags.add(t)\n",
        "    return tags"
      ],
      "metadata": {
        "id": "oAZ1IEj7Yzua"
      },
      "execution_count": 7,
      "outputs": []
    },
    {
      "cell_type": "code",
      "source": [
        "words = get_words(sentences)\n",
        "tags = get_tags(sentence_tags)"
      ],
      "metadata": {
        "id": "EbXI2TccY1wp"
      },
      "execution_count": 8,
      "outputs": []
    },
    {
      "cell_type": "code",
      "source": [
        "word2index = {w: i + 2 for i, w in enumerate(list(words))}\n",
        "word2index['-PAD-'] = 0\n",
        "word2index['-OOV-'] = 1"
      ],
      "metadata": {
        "id": "U4yV-KzZY3va"
      },
      "execution_count": 9,
      "outputs": []
    },
    {
      "cell_type": "code",
      "source": [
        "tag2index = {t: i + 1 for i, t in enumerate(list(tags))}\n",
        "tag2index['-PAD-'] = 0"
      ],
      "metadata": {
        "id": "NDfr1vc7Y_Rf"
      },
      "execution_count": 10,
      "outputs": []
    },
    {
      "cell_type": "code",
      "source": [
        "def get_train_sentences_x(train_sentences, word2index):\n",
        "    train_sentences_x = []\n",
        "    for sentence in train_sentences:\n",
        "        sentence_index = []\n",
        "        for word in sentence:\n",
        "            try:\n",
        "                sentence_index.append(word2index[word])\n",
        "            except KeyError:\n",
        "                sentence_index.append(word2index['-OOV-'])\n",
        "\n",
        "        train_sentences_x.append(sentence_index)\n",
        "    return train_sentences_x"
      ],
      "metadata": {
        "id": "CM6w7qOoZA-A"
      },
      "execution_count": 11,
      "outputs": []
    },
    {
      "cell_type": "code",
      "source": [
        "def get_test_sentences_x(test_sentences, word2index):\n",
        "    test_sentences_x = []\n",
        "    for sentence in test_sentences:\n",
        "        sentence_index = []\n",
        "        for word in sentence:\n",
        "            try:\n",
        "                sentence_index.append(word2index[word])\n",
        "            except KeyError:\n",
        "                sentence_index.append(word2index['-OOV-'])\n",
        "        test_sentences_x.append(sentence_index)\n",
        "    return test_sentences_x\n"
      ],
      "metadata": {
        "id": "HYf1qR8KZDbm"
      },
      "execution_count": 12,
      "outputs": []
    },
    {
      "cell_type": "code",
      "source": [
        "train_sentences_x = get_train_sentences_x(train_sentences, word2index)\n",
        "test_sentences_x = get_test_sentences_x(test_sentences, word2index)"
      ],
      "metadata": {
        "id": "EbOzsO1SZLMs"
      },
      "execution_count": 13,
      "outputs": []
    },
    {
      "cell_type": "code",
      "source": [
        "def get_train_tags_y(train_tags, tag2index):\n",
        "    train_tags_y = []\n",
        "    for tags in train_tags:\n",
        "        train_tags_y.append([tag2index[t] for t in tags])\n",
        "    return train_tags_y"
      ],
      "metadata": {
        "id": "FIpswVFpZNFG"
      },
      "execution_count": 14,
      "outputs": []
    },
    {
      "cell_type": "code",
      "source": [
        "def get_test_tags_y(test_tags, tag2index):\n",
        "    test_tags_y = []\n",
        "    for tags in test_tags:\n",
        "        test_tags_y.append([tag2index[t] for t in tags])\n",
        "    return test_tags_y"
      ],
      "metadata": {
        "id": "8DeeeyVaZQT8"
      },
      "execution_count": 15,
      "outputs": []
    },
    {
      "cell_type": "code",
      "source": [
        "train_tags_y = get_train_tags_y(train_tags, tag2index)\n",
        "test_tags_y = get_test_tags_y(test_tags, tag2index)"
      ],
      "metadata": {
        "id": "2Ca2cNA2ZS7Q"
      },
      "execution_count": 16,
      "outputs": []
    },
    {
      "cell_type": "code",
      "source": [
        "MAX_LENGTH = len(max(train_sentences_x, key=len))"
      ],
      "metadata": {
        "id": "NQngJFq0ZVSk"
      },
      "execution_count": 17,
      "outputs": []
    },
    {
      "cell_type": "code",
      "source": [
        "train_sentences_x = pad_sequences(train_sentences_x, maxlen=MAX_LENGTH, padding='post')\n",
        "test_sentences_x = pad_sequences(test_sentences_x, maxlen=MAX_LENGTH, padding='post')\n",
        "train_tags_y = pad_sequences(train_tags_y, maxlen=MAX_LENGTH, padding='post')\n",
        "test_tags_y = pad_sequences(test_tags_y, maxlen=MAX_LENGTH, padding='post')"
      ],
      "metadata": {
        "id": "9_n16E5uZXKc"
      },
      "execution_count": 18,
      "outputs": []
    },
    {
      "cell_type": "code",
      "source": [
        "model = Sequential()\n",
        "model.add(InputLayer(input_shape=(MAX_LENGTH,)))\n",
        "model.add(Embedding(len(word2index), 128))\n",
        "model.add(LSTM(128, return_sequences=True))\n",
        "model.add(Dense(len(tag2index)))\n",
        "model.add(Activation('softmax'))"
      ],
      "metadata": {
        "id": "PE_YlF7NZZHM"
      },
      "execution_count": 19,
      "outputs": []
    },
    {
      "cell_type": "code",
      "source": [
        "def to_categorical(sequences, categories):\n",
        "    cat_sequences = []\n",
        "    for s in sequences:\n",
        "        cats = []\n",
        "        for item in s:\n",
        "            cats.append(np.zeros(categories))\n",
        "            cats[-1][item] = 1.0\n",
        "        cat_sequences.append(cats)\n",
        "    return np.array(cat_sequences)"
      ],
      "metadata": {
        "id": "QgbV9MP5Zrte"
      },
      "execution_count": 21,
      "outputs": []
    },
    {
      "cell_type": "code",
      "source": [
        "model.compile(loss='categorical_crossentropy',\n",
        "              optimizer=Adam(0.001),\n",
        "              metrics=['accuracy'])\n",
        "history = model.fit(train_sentences_x, to_categorical(train_tags_y, len(tag2index)), batch_size=32, epochs=10,\n",
        "                    validation_split=0.2).history\n",
        "model.save(\"/home/ranarehanqaisar/Desktop/ner.h5\")\n",
        "model.summary()"
      ],
      "metadata": {
        "colab": {
          "base_uri": "https://localhost:8080/"
        },
        "id": "EFvEHNFPZbP3",
        "outputId": "07e9dbf5-8d3f-4b2c-95b6-b449b319d3be"
      },
      "execution_count": 23,
      "outputs": [
        {
          "output_type": "stream",
          "name": "stdout",
          "text": [
            "Epoch 1/10\n",
            "727/727 [==============================] - 495s 677ms/step - loss: 0.2821 - accuracy: 0.9380 - val_loss: 0.1060 - val_accuracy: 0.9732\n",
            "Epoch 2/10\n",
            "727/727 [==============================] - 484s 666ms/step - loss: 0.0551 - accuracy: 0.9859 - val_loss: 0.0344 - val_accuracy: 0.9899\n",
            "Epoch 3/10\n",
            "727/727 [==============================] - 485s 667ms/step - loss: 0.0238 - accuracy: 0.9923 - val_loss: 0.0283 - val_accuracy: 0.9905\n",
            "Epoch 4/10\n",
            "727/727 [==============================] - 485s 667ms/step - loss: 0.0183 - accuracy: 0.9933 - val_loss: 0.0267 - val_accuracy: 0.9910\n",
            "Epoch 5/10\n",
            "727/727 [==============================] - 485s 666ms/step - loss: 0.0160 - accuracy: 0.9939 - val_loss: 0.0265 - val_accuracy: 0.9910\n",
            "Epoch 6/10\n",
            "727/727 [==============================] - 486s 669ms/step - loss: 0.0144 - accuracy: 0.9944 - val_loss: 0.0273 - val_accuracy: 0.9909\n",
            "Epoch 7/10\n",
            "727/727 [==============================] - 485s 668ms/step - loss: 0.0131 - accuracy: 0.9949 - val_loss: 0.0280 - val_accuracy: 0.9907\n",
            "Epoch 8/10\n",
            "727/727 [==============================] - 487s 669ms/step - loss: 0.0118 - accuracy: 0.9953 - val_loss: 0.0293 - val_accuracy: 0.9905\n",
            "Epoch 9/10\n",
            "727/727 [==============================] - 485s 668ms/step - loss: 0.0106 - accuracy: 0.9959 - val_loss: 0.0307 - val_accuracy: 0.9906\n",
            "Epoch 10/10\n",
            "727/727 [==============================] - 485s 666ms/step - loss: 0.0094 - accuracy: 0.9964 - val_loss: 0.0329 - val_accuracy: 0.9903\n",
            "Model: \"sequential\"\n",
            "_________________________________________________________________\n",
            " Layer (type)                Output Shape              Param #   \n",
            "=================================================================\n",
            " embedding (Embedding)       (None, 281, 128)          6012928   \n",
            "                                                                 \n",
            " lstm (LSTM)                 (None, 281, 128)          131584    \n",
            "                                                                 \n",
            " dense (Dense)               (None, 281, 41)           5289      \n",
            "                                                                 \n",
            " activation (Activation)     (None, 281, 41)           0         \n",
            "                                                                 \n",
            "=================================================================\n",
            "Total params: 6,149,801\n",
            "Trainable params: 6,149,801\n",
            "Non-trainable params: 0\n",
            "_________________________________________________________________\n"
          ]
        }
      ]
    },
    {
      "cell_type": "markdown",
      "source": [
        "# Testing"
      ],
      "metadata": {
        "id": "neyxNzpqubQT"
      }
    },
    {
      "cell_type": "code",
      "source": [
        "def logits_to_tokens(sequences, index):\n",
        "    token_sequences = []\n",
        "    for categorical_sequence in sequences:\n",
        "        token_sequence = []\n",
        "        for categorical in categorical_sequence:\n",
        "            token_sequence.append(index[np.argmax(categorical)])\n",
        "\n",
        "        token_sequences.append(token_sequence)\n",
        "\n",
        "    return token_sequences"
      ],
      "metadata": {
        "id": "X91qUrvEu-XW"
      },
      "execution_count": 25,
      "outputs": []
    },
    {
      "cell_type": "code",
      "source": [
        "scores = model.evaluate(test_sentences_x, to_categorical(test_tags_y, len(tag2index)))\n",
        "print(f\"{model.metrics_names[1]}: {scores[1] * 100}\")  # acc: 98.39311069478103\n",
        "print(test_sentences[0])\n",
        "print(test_tags[0])\n",
        "test_samples = [\n",
        "    test_sentences[0],\n",
        "]\n",
        "\n",
        "test_samples_x = []\n",
        "for sentence in test_samples:\n",
        "    sentence_index = []\n",
        "    for word in sentence:\n",
        "        try:\n",
        "            sentence_index.append(word2index[word])\n",
        "        except KeyError:\n",
        "            sentence_index.append(word2index['-OOV-'])\n",
        "    test_samples_x.append(sentence_index)\n",
        "\n",
        "test_samples_X = pad_sequences(test_samples_x, maxlen=MAX_LENGTH, padding='post')\n",
        "predictions = model.predict(test_samples_X)\n",
        "\n",
        "print(logits_to_tokens(predictions, {i: t for t, i in tag2index.items()}))"
      ],
      "metadata": {
        "colab": {
          "base_uri": "https://localhost:8080/"
        },
        "id": "jxXVSCh0Zip5",
        "outputId": "0bec5bd6-0d31-4d65-dea5-59e034f69a27"
      },
      "execution_count": 29,
      "outputs": [
        {
          "output_type": "stream",
          "name": "stdout",
          "text": [
            "227/227 [==============================] - 46s 205ms/step - loss: 0.0329 - accuracy: 0.9903\n",
            "accuracy: 99.02822375297546\n",
            "['یہ' 'آج' 'علی' 'کیوں' 'نہیں' 'آیا' 'ہماری' 'طرف' 'سے' 'اور' 'زیادہ'\n",
            " 'آداب' 'و' 'سلام' '(' 'احمق' 'پھپھوندوی' ')' 'فرحان' 'دانش' 'نے' \"'\"\n",
            " 'موبائل' 'کمیونیکیشن' \"'\" 'کی' 'ذیل' 'میں' 'اس' 'موضوع' 'کا' 'آغاز' 'کیا'\n",
            " '،' 'دسمبر' '3' ',' '2007' 'اب' 'دوبارہ' 'مٹی' 'پاؤ' 'گے' 'تو' 'ظالمو'\n",
            " 'کیا' 'بناؤ' 'گے' '۔']\n",
            "['PD' 'NN' 'NN' 'QW' 'NEG' 'VB' 'G' 'NN' 'SE' 'CC' 'ADV' 'NN' 'CC' 'NN'\n",
            " 'PN' 'PN' 'PN' 'PN' 'PN' 'PN' 'P' 'SC' 'NN' 'PN' 'SC' 'P' 'NN' 'P' 'PD'\n",
            " 'NN' 'P' 'NN' 'VB' 'PM' 'PN' 'CA' 'PM' 'CA' 'AP' 'ADV' 'NN' 'VB' 'VB'\n",
            " 'SC' 'NN' 'KP' 'VB' 'TA' 'SM']\n",
            "1/1 [==============================] - 0s 38ms/step\n",
            "[['PP', 'NN', 'NN', 'QW', 'NEG', 'VB', 'G', 'NN', 'SE', 'CC', 'ADV', 'ADJ', 'CC', 'NN', 'PN', 'PN', 'PN', 'PN', 'PN', 'PN', 'P', 'SC', 'NN', 'PN', 'SC', 'P', 'NN', 'P', 'PD', 'NN', 'P', 'NN', 'VB', 'PM', 'PN', 'CA', 'PM', 'CA', 'AP', 'ADV', 'NN', 'NN', 'TA', 'SC', 'PN', 'QW', 'NN', 'TA', 'SM', '-PAD-', '-PAD-', '-PAD-', '-PAD-', '-PAD-', '-PAD-', '-PAD-', '-PAD-', '-PAD-', '-PAD-', '-PAD-', '-PAD-', '-PAD-', '-PAD-', '-PAD-', '-PAD-', '-PAD-', '-PAD-', '-PAD-', '-PAD-', '-PAD-', '-PAD-', '-PAD-', '-PAD-', '-PAD-', '-PAD-', '-PAD-', '-PAD-', '-PAD-', '-PAD-', '-PAD-', '-PAD-', '-PAD-', '-PAD-', '-PAD-', '-PAD-', '-PAD-', '-PAD-', '-PAD-', '-PAD-', '-PAD-', '-PAD-', '-PAD-', '-PAD-', '-PAD-', '-PAD-', '-PAD-', '-PAD-', '-PAD-', '-PAD-', '-PAD-', '-PAD-', '-PAD-', '-PAD-', '-PAD-', '-PAD-', '-PAD-', '-PAD-', '-PAD-', '-PAD-', '-PAD-', '-PAD-', '-PAD-', '-PAD-', '-PAD-', '-PAD-', '-PAD-', '-PAD-', '-PAD-', '-PAD-', '-PAD-', '-PAD-', '-PAD-', '-PAD-', '-PAD-', '-PAD-', '-PAD-', '-PAD-', '-PAD-', '-PAD-', '-PAD-', '-PAD-', '-PAD-', '-PAD-', '-PAD-', '-PAD-', '-PAD-', '-PAD-', '-PAD-', '-PAD-', '-PAD-', '-PAD-', '-PAD-', '-PAD-', '-PAD-', '-PAD-', '-PAD-', '-PAD-', '-PAD-', '-PAD-', '-PAD-', '-PAD-', '-PAD-', '-PAD-', '-PAD-', '-PAD-', '-PAD-', '-PAD-', '-PAD-', '-PAD-', '-PAD-', '-PAD-', '-PAD-', '-PAD-', '-PAD-', '-PAD-', '-PAD-', '-PAD-', '-PAD-', '-PAD-', '-PAD-', '-PAD-', '-PAD-', '-PAD-', '-PAD-', '-PAD-', '-PAD-', '-PAD-', '-PAD-', '-PAD-', '-PAD-', '-PAD-', '-PAD-', '-PAD-', '-PAD-', '-PAD-', '-PAD-', '-PAD-', '-PAD-', '-PAD-', '-PAD-', '-PAD-', '-PAD-', '-PAD-', '-PAD-', '-PAD-', '-PAD-', '-PAD-', '-PAD-', '-PAD-', '-PAD-', '-PAD-', '-PAD-', '-PAD-', '-PAD-', '-PAD-', '-PAD-', '-PAD-', '-PAD-', '-PAD-', '-PAD-', '-PAD-', '-PAD-', '-PAD-', '-PAD-', '-PAD-', '-PAD-', '-PAD-', '-PAD-', '-PAD-', '-PAD-', '-PAD-', '-PAD-', '-PAD-', '-PAD-', '-PAD-', '-PAD-', '-PAD-', '-PAD-', '-PAD-', '-PAD-', '-PAD-', '-PAD-', '-PAD-', '-PAD-', '-PAD-', '-PAD-', '-PAD-', '-PAD-', '-PAD-', '-PAD-', '-PAD-', '-PAD-', '-PAD-', '-PAD-', '-PAD-', '-PAD-', '-PAD-', '-PAD-', '-PAD-', '-PAD-', '-PAD-', '-PAD-', '-PAD-', '-PAD-', '-PAD-', '-PAD-', '-PAD-', '-PAD-', '-PAD-', '-PAD-', '-PAD-', '-PAD-', '-PAD-', '-PAD-', '-PAD-', '-PAD-', '-PAD-', '-PAD-', '-PAD-', '-PAD-', '-PAD-', '-PAD-', '-PAD-', '-PAD-', '-PAD-', '-PAD-', '-PAD-', '-PAD-', '-PAD-', '-PAD-', '-PAD-']]\n"
          ]
        }
      ]
    },
    {
      "cell_type": "code",
      "source": [
        "plt.plot(history['accuracy'])\n",
        "plt.plot(history['val_accuracy'])\n",
        "plt.title('Model accuracy')\n",
        "plt.ylabel('Accuracy')\n",
        "plt.xlabel('Epoch')\n",
        "plt.legend(['Train', 'Test'], loc='lower right')\n"
      ],
      "metadata": {
        "colab": {
          "base_uri": "https://localhost:8080/",
          "height": 489
        },
        "id": "KQpQBIQ8urzK",
        "outputId": "35a7e2a5-4e1b-4057-a1b9-f070c64e629e"
      },
      "execution_count": 31,
      "outputs": [
        {
          "output_type": "execute_result",
          "data": {
            "text/plain": [
              "<matplotlib.legend.Legend at 0x7f1fe1970f40>"
            ]
          },
          "metadata": {},
          "execution_count": 31
        },
        {
          "output_type": "display_data",
          "data": {
            "text/plain": [
              "<Figure size 640x480 with 1 Axes>"
            ],
            "image/png": "[encoded data removed]"
          },
          "metadata": {}
        }
      ]
    },
    {
      "cell_type": "code",
      "source": [
        "plt.clf()\n",
        "\n",
        "# Plot training & validation loss values\n",
        "plt.plot(history['loss'])\n",
        "plt.plot(history['val_loss'])\n",
        "plt.title('Model loss')\n",
        "plt.ylabel('Loss')\n",
        "plt.xlabel('Epoch')\n",
        "plt.legend(['Train', 'Test'], loc='upper right')"
      ],
      "metadata": {
        "colab": {
          "base_uri": "https://localhost:8080/",
          "height": 489
        },
        "id": "S9tZF5ckw_Ta",
        "outputId": "8d93652b-7331-4340-efa7-c97d6dcb5c66"
      },
      "execution_count": 32,
      "outputs": [
        {
          "output_type": "execute_result",
          "data": {
            "text/plain": [
              "<matplotlib.legend.Legend at 0x7f1fdd9694c0>"
            ]
          },
          "metadata": {},
          "execution_count": 32
        },
        {
          "output_type": "display_data",
          "data": {
            "text/plain": [
              "<Figure size 640x480 with 1 Axes>"
            ],
            "image/png": "[encoded data removed]"
          },
          "metadata": {}
        }
      ]
    },
    {
      "cell_type": "code",
      "source": [],
      "metadata": {
        "id": "9FTIcAB_xcoM"
      },
      "execution_count": null,
      "outputs": []
    }
  ]
}